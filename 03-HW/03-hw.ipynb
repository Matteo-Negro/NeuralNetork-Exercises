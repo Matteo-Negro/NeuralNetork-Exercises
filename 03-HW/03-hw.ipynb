{
 "cells": [
  {
   "cell_type": "code",
   "execution_count": 14,
   "metadata": {},
   "outputs": [],
   "source": [
    "import numpy as np\n",
    "import copy\n",
    "import matplotlib.pyplot as plt\n",
    "\n",
    "from keras.datasets import mnist\n",
    "\n",
    "np.random.seed(1)"
   ]
  },
  {
   "cell_type": "code",
   "execution_count": 15,
   "metadata": {},
   "outputs": [],
   "source": [
    "#loading the dataset\n",
    "(train_X, train_y), (test_X, test_y) = mnist.load_data()"
   ]
  },
  {
   "cell_type": "code",
   "execution_count": 16,
   "metadata": {},
   "outputs": [
    {
     "data": {
      "text/plain": [
       "(60000, 28, 28)"
      ]
     },
     "execution_count": 16,
     "metadata": {},
     "output_type": "execute_result"
    }
   ],
   "source": [
    "train_X.shape"
   ]
  },
  {
   "cell_type": "code",
   "execution_count": 27,
   "metadata": {},
   "outputs": [
    {
     "data": {
      "image/png": "[encoded data removed]",
      "text/plain": [
       "<Figure size 2000x600 with 10 Axes>"
      ]
     },
     "metadata": {},
     "output_type": "display_data"
    }
   ],
   "source": [
    "fig, axs = plt.subplots(2, 5, figsize = (20,6))\n",
    "axs = axs.flatten()\n",
    "\n",
    "for i in range(len(axs)):\n",
    "    index = list(test_y).index(i)\n",
    "    digit = test_X[index, :, :]\n",
    "    axs[i].imshow(digit, cmap='gray')\n",
    "    axs[i].axis('off')\n",
    "\n",
    "    plt.savefig(f'plot/03-651340543-NEGRO-dataset.png', dpi=400, bbox_inches=\"tight\",  transparent=True)\n"
   ]
  },
  {
   "cell_type": "code",
   "execution_count": 7,
   "metadata": {},
   "outputs": [],
   "source": [
    "X_train = (np.array(train_X).reshape(train_X.shape[0], train_X.shape[1] * train_X.shape[2])).T\n",
    "T_train = np.zeros((10, X_train.shape[1]))\n",
    "for i, n in enumerate(train_y):\n",
    "    T_train[n][i] = 1"
   ]
  },
  {
   "cell_type": "code",
   "execution_count": 8,
   "metadata": {},
   "outputs": [],
   "source": [
    "X_test = (np.array(test_X).reshape(test_X.shape[0], test_X.shape[1] * test_X.shape[2])).T\n",
    "T_test = np.zeros((10, X_test.shape[1]))\n",
    "for i, n in enumerate(test_y):\n",
    "    T_test[n][i] = 1"
   ]
  },
  {
   "cell_type": "code",
   "execution_count": 9,
   "metadata": {},
   "outputs": [],
   "source": [
    "def NN(X: list, Y: list, eps: float, eta: float, print_rate=1, max_epoch=10000) -> list:\n",
    "    print(f'X.shape: {X.shape}')\n",
    "    print(f'Y.shape: {Y.shape}')\n",
    "    epoch = 0\n",
    "    history = list()\n",
    "    W = np.random.uniform(-1, 1, (Y.shape[0], X.shape[0]))\n",
    "    print(f'W.shape: {W.shape}')\n",
    "    while epoch < max_epoch:\n",
    "        history.append(0)\n",
    "        for i in range(X.shape[1]):\n",
    "            v = W @ X[:, i:i+1]\n",
    "            pred_value = np.argmax(v)\n",
    "\n",
    "            if Y[pred_value, i] != 1:\n",
    "                history[epoch] += 1\n",
    "\n",
    "        if epoch % print_rate == 0:\n",
    "            print(f'{epoch}: errors -> {history[epoch]}; % -> {history[epoch] / X.shape[1]}')\n",
    "            \n",
    "        epoch += 1\n",
    "\n",
    "        if (history[epoch - 1] / X.shape[1]) <= eps:\n",
    "            break\n",
    "\n",
    "        for i in range(X.shape[1]):\n",
    "            W = W + eta * ((Y[:, i:i+1] - np.heaviside(W @ X[:, i:i+1], 0))) @ X[:, i:i+1].T\n",
    "\n",
    "    plt.plot(history, marker = 'o')\n",
    "    #plt.title(\"Curve of misprediction during epoches (n = 0.1, # of sample = 100)\")\n",
    "    plt.xlabel('Number of epochs')\n",
    "    plt.ylabel('Number of misclassification')\n",
    "    plt.grid()\n",
    "    # plt.savefig('plot/history-50samples-eta1.png', dpi=400, bbox_inches=\"tight\", transparent=True)\n",
    "    plt.savefig(f'plot/history-{X.shape[1]}samples-eta{eta}-{eps}tollerance.png', dpi=400, bbox_inches=\"tight\")\n",
    "\n",
    "    plt.clf()\n",
    "\n",
    "    return W\n"
   ]
  },
  {
   "cell_type": "code",
   "execution_count": 10,
   "metadata": {},
   "outputs": [],
   "source": [
    "def test(W: list, X: list, Y: list):\n",
    "    errors = 0\n",
    "    for i in range(X.shape[1]):\n",
    "        v = np.heaviside(W @ X[:, i], 0)\n",
    "        true_value = Y[:, i].tolist().index(1)\n",
    "        if v[true_value] != 1:\n",
    "            errors += 1\n",
    "    print(f'Errors: {errors}; Percentage: {errors/Y.shape[1]:.2f}')"
   ]
  },
  {
   "cell_type": "code",
   "execution_count": 11,
   "metadata": {},
   "outputs": [
    {
     "name": "stdout",
     "output_type": "stream",
     "text": [
      "(10, 50)\n",
      "X.shape: (784, 50)\n",
      "Y.shape: (10, 50)\n",
      "W.shape: (10, 784)\n",
      "0: errors -> 47; % -> 0.94\n",
      "1: errors -> 15; % -> 0.3\n",
      "2: errors -> 3; % -> 0.06\n",
      "3: errors -> 3; % -> 0.06\n",
      "4: errors -> 0; % -> 0.0\n",
      "Errors: 5610; Percentage: 0.56\n"
     ]
    },
    {
     "data": {
      "text/plain": [
       "<Figure size 640x480 with 0 Axes>"
      ]
     },
     "metadata": {},
     "output_type": "display_data"
    }
   ],
   "source": [
    "print(T_train[:, :50].shape)\n",
    "W = NN(copy.deepcopy(X_train[:, :50]), copy.deepcopy(T_train[:, :50]), 0, 1)\n",
    "test(W, X_test, T_test)"
   ]
  },
  {
   "cell_type": "code",
   "execution_count": 12,
   "metadata": {},
   "outputs": [
    {
     "name": "stdout",
     "output_type": "stream",
     "text": [
      "X.shape: (784, 1000)\n",
      "Y.shape: (10, 1000)\n",
      "W.shape: (10, 784)\n",
      "0: errors -> 914; % -> 0.914\n",
      "1: errors -> 184; % -> 0.184\n",
      "2: errors -> 159; % -> 0.159\n",
      "3: errors -> 154; % -> 0.154\n",
      "4: errors -> 104; % -> 0.104\n",
      "5: errors -> 71; % -> 0.071\n",
      "6: errors -> 79; % -> 0.079\n",
      "7: errors -> 32; % -> 0.032\n",
      "8: errors -> 93; % -> 0.093\n",
      "9: errors -> 39; % -> 0.039\n",
      "10: errors -> 53; % -> 0.053\n",
      "11: errors -> 46; % -> 0.046\n",
      "12: errors -> 41; % -> 0.041\n",
      "13: errors -> 31; % -> 0.031\n",
      "14: errors -> 29; % -> 0.029\n",
      "15: errors -> 15; % -> 0.015\n",
      "16: errors -> 14; % -> 0.014\n",
      "17: errors -> 27; % -> 0.027\n",
      "18: errors -> 18; % -> 0.018\n",
      "19: errors -> 23; % -> 0.023\n",
      "20: errors -> 8; % -> 0.008\n",
      "21: errors -> 6; % -> 0.006\n",
      "22: errors -> 15; % -> 0.015\n",
      "23: errors -> 44; % -> 0.044\n",
      "24: errors -> 18; % -> 0.018\n",
      "25: errors -> 15; % -> 0.015\n",
      "26: errors -> 14; % -> 0.014\n",
      "27: errors -> 10; % -> 0.01\n",
      "28: errors -> 10; % -> 0.01\n",
      "29: errors -> 6; % -> 0.006\n",
      "30: errors -> 24; % -> 0.024\n",
      "31: errors -> 4; % -> 0.004\n",
      "32: errors -> 6; % -> 0.006\n",
      "33: errors -> 2; % -> 0.002\n",
      "34: errors -> 2; % -> 0.002\n",
      "35: errors -> 0; % -> 0.0\n",
      "Errors: 2245; Percentage: 0.22\n"
     ]
    },
    {
     "data": {
      "text/plain": [
       "<Figure size 640x480 with 0 Axes>"
      ]
     },
     "metadata": {},
     "output_type": "display_data"
    }
   ],
   "source": [
    "W = NN(copy.deepcopy(X_train[:, :1000]), copy.deepcopy(T_train[:, :1000]), 0, 1)\n",
    "test(W, X_test, T_test)"
   ]
  },
  {
   "cell_type": "code",
   "execution_count": 13,
   "metadata": {},
   "outputs": [
    {
     "name": "stdout",
     "output_type": "stream",
     "text": [
      "X.shape: (784, 60000)\n",
      "Y.shape: (10, 60000)\n",
      "W.shape: (10, 784)\n",
      "0: errors -> 54259; % -> 0.9043166666666667\n"
     ]
    },
    {
     "ename": "KeyboardInterrupt",
     "evalue": "",
     "output_type": "error",
     "traceback": [
      "\u001b[0;31m---------------------------------------------------------------------------\u001b[0m",
      "\u001b[0;31mKeyboardInterrupt\u001b[0m                         Traceback (most recent call last)",
      "\u001b[1;32m/Users/matteoblack/Desktop/Proj/proj-NN-2023-2024/03-HW/03-hw.ipynb Cell 10\u001b[0m line \u001b[0;36m1\n\u001b[0;32m----> <a href='vscode-notebook-cell:/Users/matteoblack/Desktop/Proj/proj-NN-2023-2024/03-HW/03-hw.ipynb#X12sZmlsZQ%3D%3D?line=0'>1</a>\u001b[0m W \u001b[39m=\u001b[39m NN(copy\u001b[39m.\u001b[39mdeepcopy(X_train[:, :]), copy\u001b[39m.\u001b[39mdeepcopy(T_train[:, :]), \u001b[39m0.12\u001b[39m, \u001b[39m1\u001b[39m, print_rate\u001b[39m=\u001b[39m\u001b[39m10\u001b[39m)\n\u001b[1;32m      <a href='vscode-notebook-cell:/Users/matteoblack/Desktop/Proj/proj-NN-2023-2024/03-HW/03-hw.ipynb#X12sZmlsZQ%3D%3D?line=1'>2</a>\u001b[0m test(W, X_test, T_test)\n",
      "\u001b[1;32m/Users/matteoblack/Desktop/Proj/proj-NN-2023-2024/03-HW/03-hw.ipynb Cell 10\u001b[0m line \u001b[0;36m2\n\u001b[1;32m     <a href='vscode-notebook-cell:/Users/matteoblack/Desktop/Proj/proj-NN-2023-2024/03-HW/03-hw.ipynb#X12sZmlsZQ%3D%3D?line=22'>23</a>\u001b[0m         \u001b[39mbreak\u001b[39;00m\n\u001b[1;32m     <a href='vscode-notebook-cell:/Users/matteoblack/Desktop/Proj/proj-NN-2023-2024/03-HW/03-hw.ipynb#X12sZmlsZQ%3D%3D?line=24'>25</a>\u001b[0m     \u001b[39mfor\u001b[39;00m i \u001b[39min\u001b[39;00m \u001b[39mrange\u001b[39m(X\u001b[39m.\u001b[39mshape[\u001b[39m1\u001b[39m]):\n\u001b[0;32m---> <a href='vscode-notebook-cell:/Users/matteoblack/Desktop/Proj/proj-NN-2023-2024/03-HW/03-hw.ipynb#X12sZmlsZQ%3D%3D?line=25'>26</a>\u001b[0m         W \u001b[39m=\u001b[39m W \u001b[39m+\u001b[39m eta \u001b[39m*\u001b[39m ((Y[:, i:i\u001b[39m+\u001b[39m\u001b[39m1\u001b[39m] \u001b[39m-\u001b[39m np\u001b[39m.\u001b[39mheaviside(W \u001b[39m@\u001b[39m X[:, i:i\u001b[39m+\u001b[39m\u001b[39m1\u001b[39m], \u001b[39m0\u001b[39m))) \u001b[39m@\u001b[39m X[:, i:i\u001b[39m+\u001b[39m\u001b[39m1\u001b[39m]\u001b[39m.\u001b[39mT\n\u001b[1;32m     <a href='vscode-notebook-cell:/Users/matteoblack/Desktop/Proj/proj-NN-2023-2024/03-HW/03-hw.ipynb#X12sZmlsZQ%3D%3D?line=27'>28</a>\u001b[0m plt\u001b[39m.\u001b[39mplot(history, marker \u001b[39m=\u001b[39m \u001b[39m'\u001b[39m\u001b[39mo\u001b[39m\u001b[39m'\u001b[39m)\n\u001b[1;32m     <a href='vscode-notebook-cell:/Users/matteoblack/Desktop/Proj/proj-NN-2023-2024/03-HW/03-hw.ipynb#X12sZmlsZQ%3D%3D?line=28'>29</a>\u001b[0m \u001b[39m#plt.title(\"Curve of misprediction during epoches (n = 0.1, # of sample = 100)\")\u001b[39;00m\n",
      "\u001b[0;31mKeyboardInterrupt\u001b[0m: "
     ]
    }
   ],
   "source": [
    "W = NN(copy.deepcopy(X_train[:, :]), copy.deepcopy(T_train[:, :]), 0.12, 1, print_rate=1)\n",
    "test(W, X_test, T_test)"
   ]
  },
  {
   "cell_type": "code",
   "execution_count": 24,
   "metadata": {},
   "outputs": [
    {
     "name": "stdout",
     "output_type": "stream",
     "text": [
      "X.shape: (784, 60000)\n",
      "Y.shape: (10, 60000)\n",
      "W.shape: (10, 784)\n",
      "0: errors -> 53228; % -> 0.8871333333333333\n",
      "50: errors -> 9428; % -> 0.15713333333333335\n",
      "Errors: 1783; Percentage: 0.18\n",
      "X.shape: (784, 60000)\n",
      "Y.shape: (10, 60000)\n",
      "W.shape: (10, 784)\n",
      "0: errors -> 53228; % -> 0.8871333333333333\n",
      "50: errors -> 9147; % -> 0.15245\n",
      "100: errors -> 8232; % -> 0.1372\n",
      "Errors: 2022; Percentage: 0.20\n",
      "X.shape: (784, 60000)\n",
      "Y.shape: (10, 60000)\n",
      "W.shape: (10, 784)\n",
      "0: errors -> 53228; % -> 0.8871333333333333\n",
      "50: errors -> 9028; % -> 0.15046666666666667\n",
      "Errors: 1847; Percentage: 0.18\n"
     ]
    },
    {
     "data": {
      "text/plain": [
       "<Figure size 640x480 with 0 Axes>"
      ]
     },
     "metadata": {},
     "output_type": "display_data"
    }
   ],
   "source": [
    "eta = [0.01, 0.1, 10]\n",
    "\n",
    "for i in range(3):\n",
    "    W = NN(copy.deepcopy(X_train[:, :]), copy.deepcopy(T_train[:, :]), 0.13, eta[i], print_rate=50)\n",
    "    test(W, X_test, T_test)"
   ]
  }
 ],
 "metadata": {
  "kernelspec": {
   "display_name": "base",
   "language": "python",
   "name": "python3"
  },
  "language_info": {
   "codemirror_mode": {
    "name": "ipython",
    "version": 3
   },
   "file_extension": ".py",
   "mimetype": "text/x-python",
   "name": "python",
   "nbconvert_exporter": "python",
   "pygments_lexer": "ipython3",
   "version": "3.11.4"
  },
  "orig_nbformat": 4
 },
 "nbformat": 4,
 "nbformat_minor": 2
}
