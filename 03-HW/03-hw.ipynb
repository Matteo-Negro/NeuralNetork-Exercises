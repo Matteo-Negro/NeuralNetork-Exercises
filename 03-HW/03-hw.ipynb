{
 "cells": [
  {
   "cell_type": "code",
   "execution_count": 1,
   "metadata": {},
   "outputs": [
    {
     "name": "stderr",
     "output_type": "stream",
     "text": [
      "2023-09-20 10:43:48.929663: I tensorflow/core/platform/cpu_feature_guard.cc:182] This TensorFlow binary is optimized to use available CPU instructions in performance-critical operations.\n",
      "To enable the following instructions: AVX2 FMA, in other operations, rebuild TensorFlow with the appropriate compiler flags.\n"
     ]
    }
   ],
   "source": [
    "import numpy as np\n",
    "import copy\n",
    "import matplotlib.pyplot as plt\n",
    "\n",
    "from keras.datasets import mnist\n",
    "\n",
    "np.random.seed(1)"
   ]
  },
  {
   "cell_type": "code",
   "execution_count": 2,
   "metadata": {},
   "outputs": [],
   "source": [
    "#loading the dataset\n",
    "(train_X, train_y), (test_X, test_y) = mnist.load_data()"
   ]
  },
  {
   "cell_type": "code",
   "execution_count": 3,
   "metadata": {},
   "outputs": [
    {
     "data": {
      "text/plain": [
       "(60000, 28, 28)"
      ]
     },
     "execution_count": 3,
     "metadata": {},
     "output_type": "execute_result"
    }
   ],
   "source": [
    "train_X.shape"
   ]
  },
  {
   "cell_type": "code",
   "execution_count": 4,
   "metadata": {},
   "outputs": [],
   "source": [
    "X_train = (np.array(train_X).reshape(train_X.shape[0], train_X.shape[1] * train_X.shape[2])).T\n",
    "T_train = np.zeros((10, X_train.shape[1]))\n",
    "for i, n in enumerate(train_y):\n",
    "    T_train[n][i] = 1"
   ]
  },
  {
   "cell_type": "code",
   "execution_count": 5,
   "metadata": {},
   "outputs": [],
   "source": [
    "X_test = (np.array(test_X).reshape(test_X.shape[0], test_X.shape[1] * test_X.shape[2])).T\n",
    "T_test = np.zeros((10, X_test.shape[1]))\n",
    "for i, n in enumerate(test_y):\n",
    "    T_test[n][i] = 1"
   ]
  },
  {
   "cell_type": "code",
   "execution_count": 76,
   "metadata": {},
   "outputs": [],
   "source": [
    "def NN(X: list, Y: list, eps: float, eta: float, print_rate=1, max_epoch=10000) -> list:\n",
    "    print(f'X.shape: {X.shape}')\n",
    "    print(f'Y.shape: {Y.shape}')\n",
    "    epoch = 0\n",
    "    history = list()\n",
    "    W = np.random.rand(Y.shape[0], X.shape[0])\n",
    "    print(f'W.shape: {W.shape}')\n",
    "    while epoch < max_epoch:\n",
    "        history.append(0)\n",
    "        for i in range(X.shape[1]):\n",
    "            v = W @ X[:, i:i+1]\n",
    "            pred_value = np.argmax(v)\n",
    "\n",
    "            if Y[pred_value, i] != 1:\n",
    "                history[epoch] += 1\n",
    "\n",
    "        if epoch % print_rate == 0:\n",
    "            print(f'{epoch}: errors -> {history[epoch]}; % -> {history[epoch - 1] / X.shape[1]}')\n",
    "            \n",
    "        epoch += 1\n",
    "\n",
    "        if (history[epoch - 1] / X.shape[1]) <= eps:\n",
    "            break\n",
    "\n",
    "        for i in range(X.shape[1]):\n",
    "            W = W + eta * ((Y[:, i:i+1] - np.heaviside(W @ X[:, i:i+1], 0))) @ X[:, i:i+1].T\n",
    "\n",
    "    plt.plot(history, marker = 'o')\n",
    "    #plt.title(\"Curve of misprediction during epoches (n = 0.1, # of sample = 100)\")\n",
    "    plt.xlabel('Number of epochs')\n",
    "    plt.ylabel('Number of misclassification')\n",
    "    plt.grid()\n",
    "    # plt.savefig('plot/history-50samples-eta1.png', dpi=400, bbox_inches=\"tight\", transparent=True)\n",
    "    plt.savefig(f'plot/history-{X.shape[1]}samples-eta{eta}.png', dpi=400, bbox_inches=\"tight\")\n",
    "\n",
    "    plt.clf()\n",
    "\n",
    "    return W\n"
   ]
  },
  {
   "cell_type": "code",
   "execution_count": 56,
   "metadata": {},
   "outputs": [],
   "source": [
    "def test(W: list, X: list, Y: list):\n",
    "    errors = 0\n",
    "    for i in range(X_test.shape[1]):\n",
    "        v = np.heaviside(W @ X[:, i], 0)\n",
    "        true_value = Y[:, i].tolist().index(1)\n",
    "        if v[true_value] != 1:\n",
    "            errors += 1\n",
    "    print(f'Errors: {errors}; Percentage: {errors/Y.shape[1]:.2f}')"
   ]
  },
  {
   "cell_type": "code",
   "execution_count": 61,
   "metadata": {},
   "outputs": [
    {
     "name": "stdout",
     "output_type": "stream",
     "text": [
      "(10, 50)\n",
      "X.shape: (784, 50)\n",
      "Y.shape: (10, 50)\n",
      "W.shape: (10, 784)\n",
      "0: errors -> 48\n",
      "1: errors -> 17\n",
      "2: errors -> 4\n",
      "3: errors -> 4\n",
      "4: errors -> 0\n",
      "Errors: 5553; Percentage: 0.56\n"
     ]
    },
    {
     "data": {
      "text/plain": [
       "<Figure size 640x480 with 0 Axes>"
      ]
     },
     "metadata": {},
     "output_type": "display_data"
    }
   ],
   "source": [
    "print(T_train[:, :50].shape)\n",
    "W = NN(copy.deepcopy(X_train[:, :50]), copy.deepcopy(T_train[:, :50]), 0, 1)\n",
    "test(W, X_test, T_test)"
   ]
  },
  {
   "cell_type": "code",
   "execution_count": 62,
   "metadata": {},
   "outputs": [
    {
     "name": "stdout",
     "output_type": "stream",
     "text": [
      "X.shape: (784, 1000)\n",
      "Y.shape: (10, 60000)\n",
      "W.shape: (10, 784)\n",
      "0: errors -> 922\n",
      "1: errors -> 226\n",
      "2: errors -> 187\n",
      "3: errors -> 97\n",
      "4: errors -> 74\n",
      "5: errors -> 75\n",
      "6: errors -> 77\n",
      "7: errors -> 95\n",
      "8: errors -> 33\n",
      "9: errors -> 52\n",
      "10: errors -> 24\n",
      "11: errors -> 34\n",
      "12: errors -> 40\n",
      "13: errors -> 20\n",
      "14: errors -> 30\n",
      "15: errors -> 28\n",
      "16: errors -> 35\n",
      "17: errors -> 41\n",
      "18: errors -> 18\n",
      "19: errors -> 12\n",
      "20: errors -> 29\n",
      "21: errors -> 4\n",
      "22: errors -> 39\n",
      "23: errors -> 27\n",
      "24: errors -> 7\n",
      "25: errors -> 8\n",
      "26: errors -> 4\n",
      "27: errors -> 13\n",
      "28: errors -> 5\n",
      "29: errors -> 3\n",
      "30: errors -> 5\n",
      "31: errors -> 1\n",
      "32: errors -> 8\n",
      "33: errors -> 3\n",
      "34: errors -> 12\n",
      "35: errors -> 7\n",
      "36: errors -> 5\n",
      "37: errors -> 1\n",
      "38: errors -> 0\n",
      "Errors: 2137; Percentage: 0.21\n"
     ]
    },
    {
     "data": {
      "text/plain": [
       "<Figure size 640x480 with 0 Axes>"
      ]
     },
     "metadata": {},
     "output_type": "display_data"
    }
   ],
   "source": [
    "W = NN(copy.deepcopy(X_train[:, :1000]), copy.deepcopy(T_train[:1000]), 0, 1)\n",
    "test(W, X_test, T_test)"
   ]
  },
  {
   "cell_type": "code",
   "execution_count": 80,
   "metadata": {},
   "outputs": [
    {
     "name": "stdout",
     "output_type": "stream",
     "text": [
      "X.shape: (784, 60000)\n",
      "Y.shape: (10, 60000)\n",
      "W.shape: (10, 784)\n",
      "0: errors -> 49601; % -> 0.8266833333333333\n",
      "Errors: 2022; Percentage: 0.20\n"
     ]
    },
    {
     "data": {
      "text/plain": [
       "<Figure size 640x480 with 0 Axes>"
      ]
     },
     "metadata": {},
     "output_type": "display_data"
    }
   ],
   "source": [
    "W = NN(copy.deepcopy(X_train[:, :]), copy.deepcopy(T_train[:, :]), 0.14, 1, print_rate=50)\n",
    "test(W, X_test, T_test)"
   ]
  },
  {
   "cell_type": "code",
   "execution_count": 81,
   "metadata": {},
   "outputs": [
    {
     "name": "stdout",
     "output_type": "stream",
     "text": [
      "X.shape: (784, 60000)\n",
      "Y.shape: (10, 60000)\n",
      "W.shape: (10, 784)\n",
      "0: errors -> 55760; % -> 0.9293333333333333\n",
      "Errors: 2051; Percentage: 0.21\n",
      "X.shape: (784, 60000)\n",
      "Y.shape: (10, 60000)\n",
      "W.shape: (10, 784)\n",
      "0: errors -> 54443; % -> 0.9073833333333333\n",
      "Errors: 2251; Percentage: 0.23\n",
      "X.shape: (784, 60000)\n",
      "Y.shape: (10, 60000)\n",
      "W.shape: (10, 784)\n",
      "0: errors -> 51633; % -> 0.86055\n",
      "Errors: 1823; Percentage: 0.18\n"
     ]
    },
    {
     "data": {
      "text/plain": [
       "<Figure size 640x480 with 0 Axes>"
      ]
     },
     "metadata": {},
     "output_type": "display_data"
    }
   ],
   "source": [
    "eta = [0.01, 0.1, 10]\n",
    "\n",
    "for i in range(3):\n",
    "    W = NN(copy.deepcopy(X_train[:, :]), copy.deepcopy(T_train[:, :]), 0.14, eta[i], print_rate=50)\n",
    "    test(W, X_test, T_test)"
   ]
  }
 ],
 "metadata": {
  "kernelspec": {
   "display_name": "base",
   "language": "python",
   "name": "python3"
  },
  "language_info": {
   "codemirror_mode": {
    "name": "ipython",
    "version": 3
   },
   "file_extension": ".py",
   "mimetype": "text/x-python",
   "name": "python",
   "nbconvert_exporter": "python",
   "pygments_lexer": "ipython3",
   "version": "3.11.4"
  },
  "orig_nbformat": 4
 },
 "nbformat": 4,
 "nbformat_minor": 2
}
